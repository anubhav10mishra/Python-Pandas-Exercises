{
 "cells": [
  {
   "cell_type": "markdown",
   "metadata": {},
   "source": [
    "#### 1. Write a Python script to display the\n",
    "#### a. Current date and time\n",
    "#### b. Current year\n",
    "#### c. Month of year\n",
    "#### d. Week number of the year\n",
    "#### e. Weekday of the week\n",
    "#### f. Day of year\n",
    "#### g. Day of the month\n",
    "#### h. Day of week"
   ]
  },
  {
   "cell_type": "code",
   "execution_count": 29,
   "metadata": {},
   "outputs": [
    {
     "name": "stdout",
     "output_type": "stream",
     "text": [
      "Current date and time : 2019-10-05 13:17:15.848984\n",
      "Current year is       : 2019\n",
      "Month of Year is      : 10\n",
      "Week no. of Year is   : 39\n",
      "WeekDay of Week is    : 6\n",
      "Day of Year is        : 278\n",
      "Day of Month is       : 05\n",
      "Day of Week is        : Saturday\n"
     ]
    }
   ],
   "source": [
    "import pandas as pd \n",
    "print(\"Current date and time :\",pd.datetime.now())\n",
    "print(\"Current year is       :\",pd.datetime.now().year)\n",
    "print(\"Month of Year is      :\",pd.datetime.now().month)\n",
    "print(\"Week no. of Year is   :\",pd.datetime.now().strftime(\"%W\"))\n",
    "print(\"WeekDay of Week is    :\",pd.datetime.now().strftime(\"%w\"))\n",
    "print(\"Day of Year is        :\",pd.datetime.now().strftime(\"%j\"))\n",
    "print(\"Day of Month is       :\",pd.datetime.now().strftime(\"%d\"))\n",
    "print(\"Day of Week is        :\",pd.datetime.now().strftime(\"%A\"))"
   ]
  },
  {
   "cell_type": "markdown",
   "metadata": {},
   "source": [
    "#### 2. Write a Python program to convert a string to datetime.\n",
    "Sample String :  Jan 1 2014 2:43PM\n",
    "\n",
    "Expected Output : 2014-07-01 14:43:00"
   ]
  },
  {
   "cell_type": "code",
   "execution_count": 32,
   "metadata": {},
   "outputs": [
    {
     "name": "stdout",
     "output_type": "stream",
     "text": [
      "2014-01-02 14:43:00\n"
     ]
    }
   ],
   "source": [
    "from pandas import datetime\n",
    "date_form = datetime.strptime('Jan 2 2014 2:43PM', '%b %d %Y %I:%M%p')\n",
    "print(date_form)"
   ]
  },
  {
   "cell_type": "markdown",
   "metadata": {},
   "source": [
    "#### 3. Write a Python program to subtract five days from current date.\n",
    "\n",
    "Current Date : 2015-06-22\n",
    "\n",
    "5 days before Current Date : 2015-06-17"
   ]
  },
  {
   "cell_type": "code",
   "execution_count": 7,
   "metadata": {},
   "outputs": [
    {
     "name": "stdout",
     "output_type": "stream",
     "text": [
      "5 days before Current Date :  2015-06-17\n"
     ]
    }
   ],
   "source": [
    "from pandas import datetime\n",
    "from datetime import timedelta\n",
    "date_form = datetime.strptime('2015-06-22','%Y-%m-%d').date() - timedelta(5)\n",
    "print(\"5 days before Current Date : \",date_form)"
   ]
  },
  {
   "cell_type": "markdown",
   "metadata": {},
   "source": [
    "#### 4. Write a Python program to convert unix timestamp string to readable date.\n",
    "\n",
    "Sample Unix timestamp string : 1284105682\n",
    "    \n",
    "Expected Output : 2010-09-10 13:31:22"
   ]
  },
  {
   "cell_type": "code",
   "execution_count": 15,
   "metadata": {},
   "outputs": [
    {
     "name": "stdout",
     "output_type": "stream",
     "text": [
      "Expected Output : 2010-09-10 13:31:22\n"
     ]
    }
   ],
   "source": [
    "from pandas import datetime\n",
    "date_expected=datetime.fromtimestamp(int(\"1284105682\"))\n",
    "print(\"Expected Output :\",date_expected)"
   ]
  },
  {
   "cell_type": "markdown",
   "metadata": {},
   "source": [
    "#### 5. Convert the below Series to pandas datetime : \n",
    "\n",
    "DoB = pd.Series([\"07Sep59\",\"01Jan55\",\"15Dec47\",\"11Jul42\"])\n",
    "\n",
    "Make sure that the year is 19XX not 20XX"
   ]
  },
  {
   "cell_type": "code",
   "execution_count": 23,
   "metadata": {},
   "outputs": [
    {
     "name": "stdout",
     "output_type": "stream",
     "text": [
      "0   1959-09-07\n",
      "1   1955-01-01\n",
      "2   1947-12-15\n",
      "3   1942-07-11\n",
      "dtype: datetime64[ns]\n"
     ]
    }
   ],
   "source": [
    "import pandas as pd\n",
    "from pandas import datetime\n",
    "DoB = pd.Series([\"07Sep59\",\"01Jan55\",\"15Dec47\",\"11Jul42\"])\n",
    "DoB = DoB.str[:-2]+'19'+ DoB.str[-2:]\n",
    "DoB1= pd.to_datetime(DoB)\n",
    "print(DoB1)"
   ]
  },
  {
   "cell_type": "markdown",
   "metadata": {},
   "source": [
    "#### 6. Write a Python program to get days between two dates."
   ]
  },
  {
   "cell_type": "code",
   "execution_count": 2,
   "metadata": {},
   "outputs": [
    {
     "name": "stdout",
     "output_type": "stream",
     "text": [
      "9\n"
     ]
    }
   ],
   "source": [
    "from pandas import datetime\n",
    "from datetime import date\n",
    "f_date = date(2014, 7, 2)\n",
    "l_date = date(2014, 7, 11)\n",
    "delta = l_date - f_date\n",
    "print(delta.days)"
   ]
  },
  {
   "cell_type": "markdown",
   "metadata": {},
   "source": [
    "#### 7. Convert the below date to datetime and then change its display format using the .dt module\n",
    "\n",
    "Date = \"15Dec1989\"\n",
    "\n",
    "Result : \"Friday, 15 Dec 98\""
   ]
  },
  {
   "cell_type": "code",
   "execution_count": 3,
   "metadata": {},
   "outputs": [
    {
     "name": "stdout",
     "output_type": "stream",
     "text": [
      "Friday, 15 Dec 89\n"
     ]
    }
   ],
   "source": [
    "import pandas as pd\n",
    "import numpy as np\n",
    "from pandas import datetime\n",
    "d1= (datetime.strptime(\"15Dec1989\", '%d%b%Y').strftime('%A, %d %b %y'))\n",
    "print(d1)"
   ]
  }
 ],
 "metadata": {
  "kernelspec": {
   "display_name": "Python 3",
   "language": "python",
   "name": "python3"
  },
  "language_info": {
   "codemirror_mode": {
    "name": "ipython",
    "version": 3
   },
   "file_extension": ".py",
   "mimetype": "text/x-python",
   "name": "python",
   "nbconvert_exporter": "python",
   "pygments_lexer": "ipython3",
   "version": "3.7.3"
  }
 },
 "nbformat": 4,
 "nbformat_minor": 2
}
